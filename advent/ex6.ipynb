{
 "cells": [
  {
   "cell_type": "code",
   "execution_count": 10,
   "metadata": {
    "collapsed": true
   },
   "outputs": [],
   "source": [
    "import numpy as np\n",
    "with open(\"ex6.txt\",\"r\") as f:\n",
    "    data = [line.split('\\n')[0] for line in f]"
   ]
  },
  {
   "cell_type": "code",
   "execution_count": 11,
   "metadata": {
    "collapsed": true
   },
   "outputs": [],
   "source": [
    "class point():\n",
    "    def __init__(self,x,y,id_=None):\n",
    "        self.x = x\n",
    "        self.y = y\n",
    "        self.id = id_\n",
    "    "
   ]
  },
  {
   "cell_type": "code",
   "execution_count": 12,
   "metadata": {
    "collapsed": true
   },
   "outputs": [],
   "source": [
    "data_ = [line.split(', ') for line in data]"
   ]
  },
  {
   "cell_type": "code",
   "execution_count": 13,
   "metadata": {
    "collapsed": true
   },
   "outputs": [],
   "source": [
    "data__ = [ [int(i) for i in line] for line in data_ ]"
   ]
  },
  {
   "cell_type": "code",
   "execution_count": 58,
   "metadata": {
    "collapsed": true
   },
   "outputs": [],
   "source": [
    "points = [point(line[0],line[1],i) for i,line in enumerate(data__)]"
   ]
  },
  {
   "cell_type": "code",
   "execution_count": 48,
   "metadata": {
    "collapsed": true
   },
   "outputs": [],
   "source": [
    "points = [point(1,0,0),point(0,1,1),point(4,5,2),point(5,5,3), point(7,7,4)]"
   ]
  },
  {
   "cell_type": "code",
   "execution_count": 15,
   "metadata": {
    "collapsed": true
   },
   "outputs": [],
   "source": [
    "def l1norm(x1,x2):\n",
    "    return abs(x1.x - x2.x) + abs(x1.y - x2.y)"
   ]
  },
  {
   "cell_type": "code",
   "execution_count": 22,
   "metadata": {},
   "outputs": [
    {
     "name": "stdout",
     "output_type": "stream",
     "text": [
      "34.0\n",
      "4186\n"
     ]
    }
   ],
   "source": [
    "y_max = 350\n",
    "x_max = 350\n",
    "min_id_matrix = np.zeros((x_max,y_max))\n",
    "                         \n",
    "for i in range(x_max):\n",
    "    for j in range(y_max):\n",
    "        distances = []\n",
    "        c = point(i,j)\n",
    "        for p in points:\n",
    "            distances.append(l1norm(c,p))\n",
    "        d_np = np.array(distances)\n",
    "        if len(np.argwhere(d_np == np.min(d_np)).flatten()) > 1:\n",
    "            min_id_matrix[i][j] = -1\n",
    "        else:\n",
    "            min_id = np.argmin(distances)\n",
    "            min_id_matrix[i][j] = min_id\n",
    "\n",
    "            boundary_ids = (list(min_id_matrix[-1,:]) \n",
    "                            + list(min_id_matrix[:,-1]) \n",
    "                            + list(min_id_matrix[0,:]) \n",
    "                            + list(min_id_matrix[:,0])\n",
    "                           )\n",
    "\n",
    "\n",
    "unique_boundary_ids = np.unique(boundary_ids)\n",
    "\n",
    "unique, counts = np.unique(min_id_matrix.flatten(), return_counts=True)\n",
    "dictionary = dict(zip(unique, counts))\n",
    "\n",
    "for key in unique_boundary_ids:\n",
    "    del dictionary[key] \n",
    "    \n",
    "values = list(dictionary.values())\n",
    "keys = list(dictionary.keys())\n",
    "\n",
    "print(keys[np.argmax(values)])\n",
    "print(np.max(values))\n"
   ]
  },
  {
   "cell_type": "code",
   "execution_count": 55,
   "metadata": {},
   "outputs": [
    {
     "name": "stdout",
     "output_type": "stream",
     "text": [
      "3.0\n",
      "11\n"
     ]
    }
   ],
   "source": [
    "min_id_matrix\n",
    "print(keys[np.argmax(values)])\n",
    "print(np.max(values))"
   ]
  },
  {
   "cell_type": "code",
   "execution_count": 56,
   "metadata": {
    "collapsed": true
   },
   "outputs": [],
   "source": [
    "plot_p = np.zeros((10,10))\n",
    "for p in points:\n",
    "    plot_p[p.x][p.y] = 9#f\"{p.id}\"\n",
    "        "
   ]
  },
  {
   "cell_type": "code",
   "execution_count": 57,
   "metadata": {},
   "outputs": [
    {
     "data": {
      "text/plain": [
       "array([[0., 9., 0., 0., 0., 0., 0., 0., 0., 0.],\n",
       "       [9., 0., 0., 0., 0., 0., 0., 0., 0., 0.],\n",
       "       [0., 0., 0., 0., 0., 0., 0., 0., 0., 0.],\n",
       "       [0., 0., 0., 0., 0., 0., 0., 0., 0., 0.],\n",
       "       [0., 0., 0., 0., 0., 9., 0., 0., 0., 0.],\n",
       "       [0., 0., 0., 0., 0., 9., 0., 0., 0., 0.],\n",
       "       [0., 0., 0., 0., 0., 0., 0., 0., 0., 0.],\n",
       "       [0., 0., 0., 0., 0., 0., 0., 9., 0., 0.],\n",
       "       [0., 0., 0., 0., 0., 0., 0., 0., 0., 0.],\n",
       "       [0., 0., 0., 0., 0., 0., 0., 0., 0., 0.]])"
      ]
     },
     "execution_count": 57,
     "metadata": {},
     "output_type": "execute_result"
    }
   ],
   "source": [
    "plot_p"
   ]
  },
  {
   "cell_type": "code",
   "execution_count": null,
   "metadata": {
    "collapsed": true
   },
   "outputs": [],
   "source": []
  },
  {
   "cell_type": "code",
   "execution_count": 59,
   "metadata": {},
   "outputs": [
    {
     "name": "stdout",
     "output_type": "stream",
     "text": [
      "34.0\n",
      "4186\n"
     ]
    }
   ],
   "source": [
    "y_max = 350\n",
    "x_max = 350\n",
    "threshold = 10000\n",
    "min_id_matrix = np.zeros((x_max,y_max))\n",
    "sum_matrix = np.zeros((x_max,y_max))\n",
    "safe_matrix = np.zeros((x_max,y_max))\n",
    "\n",
    "for i in range(x_max):\n",
    "    for j in range(y_max):\n",
    "        distances = []\n",
    "        c = point(i,j)\n",
    "        for p in points:\n",
    "            distances.append(l1norm(c,p))\n",
    "        d_np = np.array(distances)\n",
    "        sum_matrix[i][j] = sum(distances)\n",
    "        \n",
    "        if len(np.argwhere(d_np == np.min(d_np)).flatten()) > 1:\n",
    "            min_id_matrix[i][j] = -1\n",
    "        else:\n",
    "            min_id = np.argmin(distances)\n",
    "            min_id_matrix[i][j] = min_id\n",
    "\n",
    "            boundary_ids = (list(min_id_matrix[-1,:]) \n",
    "                            + list(min_id_matrix[:,-1]) \n",
    "                            + list(min_id_matrix[0,:]) \n",
    "                            + list(min_id_matrix[:,0])\n",
    "                           )\n",
    "\n",
    "\n",
    "unique_boundary_ids = np.unique(boundary_ids)\n",
    "\n",
    "unique, counts = np.unique(min_id_matrix.flatten(), return_counts=True)\n",
    "dictionary = dict(zip(unique, counts))\n",
    "\n",
    "for key in unique_boundary_ids:\n",
    "    del dictionary[key] \n",
    "    \n",
    "values = list(dictionary.values())\n",
    "keys = list(dictionary.keys())\n",
    "\n",
    "print(keys[np.argmax(values)])\n",
    "print(np.max(values))\n",
    "\n",
    "safe_matrix[sum_matrix < threshold] = 1"
   ]
  },
  {
   "cell_type": "code",
   "execution_count": 60,
   "metadata": {},
   "outputs": [
    {
     "data": {
      "text/plain": [
       "array([[19623., 19573., 19523., ..., 17483., 17529., 17577.],\n",
       "       [19573., 19523., 19473., ..., 17433., 17479., 17527.],\n",
       "       [19523., 19473., 19423., ..., 17383., 17429., 17477.],\n",
       "       ...,\n",
       "       [17239., 17189., 17139., ..., 15099., 15145., 15193.],\n",
       "       [17287., 17237., 17187., ..., 15147., 15193., 15241.],\n",
       "       [17335., 17285., 17235., ..., 15195., 15241., 15289.]])"
      ]
     },
     "execution_count": 60,
     "metadata": {},
     "output_type": "execute_result"
    }
   ],
   "source": [
    "sum_matrix"
   ]
  },
  {
   "cell_type": "code",
   "execution_count": 61,
   "metadata": {},
   "outputs": [
    {
     "data": {
      "text/plain": [
       "45509.0"
      ]
     },
     "execution_count": 61,
     "metadata": {},
     "output_type": "execute_result"
    }
   ],
   "source": [
    "sum(safe_matrix.flatten())"
   ]
  },
  {
   "cell_type": "code",
   "execution_count": 62,
   "metadata": {},
   "outputs": [
    {
     "data": {
      "text/plain": [
       "array([[0., 0., 0., ..., 0., 0., 0.],\n",
       "       [0., 0., 0., ..., 0., 0., 0.],\n",
       "       [0., 0., 0., ..., 0., 0., 0.],\n",
       "       ...,\n",
       "       [0., 0., 0., ..., 0., 0., 0.],\n",
       "       [0., 0., 0., ..., 0., 0., 0.],\n",
       "       [0., 0., 0., ..., 0., 0., 0.]])"
      ]
     },
     "execution_count": 62,
     "metadata": {},
     "output_type": "execute_result"
    }
   ],
   "source": [
    "safe_matrix"
   ]
  },
  {
   "cell_type": "code",
   "execution_count": null,
   "metadata": {
    "collapsed": true
   },
   "outputs": [],
   "source": []
  }
 ],
 "metadata": {
  "kernelspec": {
   "display_name": "Python 3",
   "language": "python",
   "name": "python3"
  },
  "language_info": {
   "codemirror_mode": {
    "name": "ipython",
    "version": 3
   },
   "file_extension": ".py",
   "mimetype": "text/x-python",
   "name": "python",
   "nbconvert_exporter": "python",
   "pygments_lexer": "ipython3",
   "version": "3.6.3"
  }
 },
 "nbformat": 4,
 "nbformat_minor": 2
}
