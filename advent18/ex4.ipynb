{
 "cells": [
  {
   "cell_type": "code",
   "execution_count": 1,
   "metadata": {},
   "outputs": [],
   "source": [
    "import os\n",
    "import numpy as np\n",
    "import pandas as pd\n"
   ]
  },
  {
   "cell_type": "code",
   "execution_count": 2,
   "metadata": {},
   "outputs": [],
   "source": [
    "with open(\"ex4.txt\") as f:\n",
    "    data = [line.split(\"\\n\")[0] for line in f]"
   ]
  },
  {
   "cell_type": "code",
   "execution_count": 3,
   "metadata": {},
   "outputs": [],
   "source": [
    "times = [line.split('[')[1].split(']')[0] for line in data]"
   ]
  },
  {
   "cell_type": "code",
   "execution_count": 4,
   "metadata": {},
   "outputs": [],
   "source": [
    "data_ = [line.split('] ')[1] for line in data]"
   ]
  },
  {
   "cell_type": "code",
   "execution_count": 5,
   "metadata": {},
   "outputs": [],
   "source": [
    "clean = []\n",
    "\n",
    "for line in data_:\n",
    "    if line.split(' ')[0] == 'Guard':\n",
    "        clean = clean + [line.split(' ')[1]]\n",
    "    if line.split(' ')[0] == 'falls':\n",
    "        clean = clean + [0]\n",
    "    if line.split(' ')[0] == 'wakes':\n",
    "        clean = clean + [1]\n",
    "        \n",
    "clean_ = np.array([clean])\n",
    "times_ = np.array([times])\n"
   ]
  },
  {
   "cell_type": "code",
   "execution_count": 6,
   "metadata": {},
   "outputs": [],
   "source": [
    "total = np.concatenate((times_,clean_),axis=0).transpose()"
   ]
  },
  {
   "cell_type": "code",
   "execution_count": 7,
   "metadata": {},
   "outputs": [
    {
     "data": {
      "text/html": [
       "<div>\n",
       "<style scoped>\n",
       "    .dataframe tbody tr th:only-of-type {\n",
       "        vertical-align: middle;\n",
       "    }\n",
       "\n",
       "    .dataframe tbody tr th {\n",
       "        vertical-align: top;\n",
       "    }\n",
       "\n",
       "    .dataframe thead th {\n",
       "        text-align: right;\n",
       "    }\n",
       "</style>\n",
       "<table border=\"1\" class=\"dataframe\">\n",
       "  <thead>\n",
       "    <tr style=\"text-align: right;\">\n",
       "      <th></th>\n",
       "      <th>0</th>\n",
       "      <th>1</th>\n",
       "    </tr>\n",
       "  </thead>\n",
       "  <tbody>\n",
       "    <tr>\n",
       "      <td>0</td>\n",
       "      <td>1518-11-22 00:00</td>\n",
       "      <td>#1231</td>\n",
       "    </tr>\n",
       "    <tr>\n",
       "      <td>1</td>\n",
       "      <td>1518-04-13 00:00</td>\n",
       "      <td>0</td>\n",
       "    </tr>\n",
       "    <tr>\n",
       "      <td>2</td>\n",
       "      <td>1518-09-09 00:02</td>\n",
       "      <td>0</td>\n",
       "    </tr>\n",
       "    <tr>\n",
       "      <td>3</td>\n",
       "      <td>1518-04-06 00:58</td>\n",
       "      <td>1</td>\n",
       "    </tr>\n",
       "    <tr>\n",
       "      <td>4</td>\n",
       "      <td>1518-04-28 00:19</td>\n",
       "      <td>0</td>\n",
       "    </tr>\n",
       "  </tbody>\n",
       "</table>\n",
       "</div>"
      ],
      "text/plain": [
       "                  0      1\n",
       "0  1518-11-22 00:00  #1231\n",
       "1  1518-04-13 00:00      0\n",
       "2  1518-09-09 00:02      0\n",
       "3  1518-04-06 00:58      1\n",
       "4  1518-04-28 00:19      0"
      ]
     },
     "execution_count": 7,
     "metadata": {},
     "output_type": "execute_result"
    }
   ],
   "source": [
    "df = pd.DataFrame(total)\n",
    "df.head()"
   ]
  },
  {
   "cell_type": "code",
   "execution_count": 8,
   "metadata": {},
   "outputs": [],
   "source": [
    "df_t = df.sort_values(0)"
   ]
  },
  {
   "cell_type": "code",
   "execution_count": 9,
   "metadata": {},
   "outputs": [],
   "source": [
    "ids = []\n",
    "column = np.array(df_t[1])\n",
    "for i in column:\n",
    "    if i[0] == '#':\n",
    "        id = i\n",
    "        ids = ids + [id]\n",
    "    else:\n",
    "        ids = ids + [id]"
   ]
  },
  {
   "cell_type": "code",
   "execution_count": 10,
   "metadata": {},
   "outputs": [],
   "source": [
    "df_t['ids'] = ids\n",
    "df_t.columns = ['time','asleep','ids']\n"
   ]
  },
  {
   "cell_type": "code",
   "execution_count": 11,
   "metadata": {},
   "outputs": [
    {
     "ename": "NameError",
     "evalue": "name 'gaurds' is not defined",
     "output_type": "error",
     "traceback": [
      "\u001b[0;31m---------------------------------------------------------------------------\u001b[0m",
      "\u001b[0;31mNameError\u001b[0m                                 Traceback (most recent call last)",
      "\u001b[0;32m<ipython-input-11-be1f3609a6ee>\u001b[0m in \u001b[0;36m<module>\u001b[0;34m\u001b[0m\n\u001b[1;32m      1\u001b[0m \u001b[0mdf_drop\u001b[0m \u001b[0;34m=\u001b[0m \u001b[0mdf_t\u001b[0m\u001b[0;34m[\u001b[0m\u001b[0;34m(\u001b[0m\u001b[0mdf_t\u001b[0m\u001b[0;34m.\u001b[0m\u001b[0masleep\u001b[0m \u001b[0;34m==\u001b[0m \u001b[0;34m'0'\u001b[0m\u001b[0;34m)\u001b[0m \u001b[0;34m|\u001b[0m \u001b[0;34m(\u001b[0m\u001b[0mdf_t\u001b[0m\u001b[0;34m.\u001b[0m\u001b[0masleep\u001b[0m \u001b[0;34m==\u001b[0m \u001b[0;34m'1'\u001b[0m\u001b[0;34m)\u001b[0m\u001b[0;34m]\u001b[0m\u001b[0;34m\u001b[0m\u001b[0;34m\u001b[0m\u001b[0m\n\u001b[1;32m      2\u001b[0m \u001b[0mguards\u001b[0m \u001b[0;34m=\u001b[0m \u001b[0mpd\u001b[0m\u001b[0;34m.\u001b[0m\u001b[0munique\u001b[0m\u001b[0;34m(\u001b[0m\u001b[0mdf_drop\u001b[0m\u001b[0;34m[\u001b[0m\u001b[0;34m'ids'\u001b[0m\u001b[0;34m]\u001b[0m\u001b[0;34m)\u001b[0m\u001b[0;34m\u001b[0m\u001b[0;34m\u001b[0m\u001b[0m\n\u001b[0;32m----> 3\u001b[0;31m \u001b[0mgaurds\u001b[0m\u001b[0;34m\u001b[0m\u001b[0;34m\u001b[0m\u001b[0m\n\u001b[0m",
      "\u001b[0;31mNameError\u001b[0m: name 'gaurds' is not defined"
     ]
    }
   ],
   "source": [
    "df_drop = df_t[(df_t.asleep == '0') | (df_t.asleep == '1')]\n",
    "guards = pd.unique(df_drop['ids'])\n",
    "gaurds"
   ]
  },
  {
   "cell_type": "code",
   "execution_count": 19,
   "metadata": {},
   "outputs": [],
   "source": [
    "def asleep(df_drop,guards,i):\n",
    "    guard_df = df_drop.loc[df_drop['ids'] == guards[i]].reset_index()\n",
    "    asleep_list = [int(e.split()[-1].split(':')[-1]) for e in guard_df['time']]\n",
    "    return asleep_list\n",
    "#print(guard_df.head(100))\n"
   ]
  },
  {
   "cell_type": "code",
   "execution_count": null,
   "metadata": {},
   "outputs": [],
   "source": []
  },
  {
   "cell_type": "code",
   "execution_count": 20,
   "metadata": {},
   "outputs": [],
   "source": [
    "def calc_total(asleep):\n",
    "    total_time_asleep = []\n",
    "    for i,e in enumerate(asleep):\n",
    "        if i % 2 == 1:\n",
    "            total_time_asleep.append(asleep[i] - asleep[i-1])\n",
    "    return sum(total_time_asleep)\n",
    "    "
   ]
  },
  {
   "cell_type": "code",
   "execution_count": 30,
   "metadata": {},
   "outputs": [
    {
     "data": {
      "text/plain": [
       "[(452, '#1033'),\n",
       " (488, '#1901'),\n",
       " (493, '#1021'),\n",
       " (284, '#2447'),\n",
       " (182, '#2383'),\n",
       " (408, '#1193'),\n",
       " (313, '#1297'),\n",
       " (182, '#3499'),\n",
       " (402, '#1231'),\n",
       " (487, '#2729'),\n",
       " (269, '#2129'),\n",
       " (262, '#419'),\n",
       " (272, '#1993'),\n",
       " (155, '#2539'),\n",
       " (136, '#2963'),\n",
       " (387, '#3119'),\n",
       " (287, '#2707'),\n",
       " (399, '#1171'),\n",
       " (185, '#1553'),\n",
       " (526, '#3371')]"
      ]
     },
     "execution_count": 30,
     "metadata": {},
     "output_type": "execute_result"
    }
   ],
   "source": [
    "guard_totals = [(calc_total(asleep(df_drop,guards,i)),e) for i,e in enumerate(guards)]\n",
    "guard_totals"
   ]
  },
  {
   "cell_type": "code",
   "execution_count": null,
   "metadata": {},
   "outputs": [],
   "source": [
    "#3371 - 526"
   ]
  },
  {
   "cell_type": "code",
   "execution_count": 84,
   "metadata": {},
   "outputs": [
    {
     "name": "stdout",
     "output_type": "stream",
     "text": [
      "131469\n",
      "[ 0  1  1  1  2  2  4  4  6  6  6  6  6  7  9 10 11 11 11 12 12 12 12 13\n",
      " 12 12 12 10 10 10 11 11 12 13 12 12 12 12 12 14 13 13 11 12 12 12 12 12\n",
      " 11 11  9  8  8  8  6  6  6  4  0  0]\n"
     ]
    }
   ],
   "source": [
    "def get_time_array(df_drop,guards,idx):\n",
    "    time = np.array([0 for i in range(60)])\n",
    "\n",
    "    times_asleep = asleep(df_drop,guards,idx)\n",
    "    total_3371 = calc_total(times_asleep)\n",
    "    #print(total_3371)\n",
    "    for i,t in enumerate(times_asleep):\n",
    "        if i % 2 == 1:\n",
    "            r = [j for j in range(times_asleep[i-1],times_asleep[i])]\n",
    "            time[r] +=1 \n",
    "    return time\n",
    "print((np.argmax(get_time_array(df_drop,guards,len(guards)-1))) * 3371)\n",
    "\n",
    "print(time)"
   ]
  },
  {
   "cell_type": "code",
   "execution_count": 87,
   "metadata": {},
   "outputs": [],
   "source": [
    "all_time = np.array([get_time_array(df_drop,guards,i) for i,e in enumerate(guards)])"
   ]
  },
  {
   "cell_type": "code",
   "execution_count": 89,
   "metadata": {},
   "outputs": [
    {
     "data": {
      "text/plain": [
       "(20, 60)"
      ]
     },
     "execution_count": 89,
     "metadata": {},
     "output_type": "execute_result"
    }
   ],
   "source": [
    "all_time.shape"
   ]
  },
  {
   "cell_type": "code",
   "execution_count": 93,
   "metadata": {},
   "outputs": [
    {
     "data": {
      "text/plain": [
       "array([48, 51, 29, 41, 15, 32, 33, 36, 18, 43, 45, 11, 34, 44, 10, 36, 47,\n",
       "       24, 17, 39])"
      ]
     },
     "execution_count": 93,
     "metadata": {},
     "output_type": "execute_result"
    }
   ],
   "source": [
    "np.argmax(all_time,axis=1)"
   ]
  },
  {
   "cell_type": "code",
   "execution_count": 96,
   "metadata": {},
   "outputs": [
    {
     "data": {
      "text/plain": [
       "array([12, 19, 15, 11,  6, 12, 10,  6, 11, 15,  8,  7,  9,  7,  4, 13, 10,\n",
       "       12,  5, 14])"
      ]
     },
     "execution_count": 96,
     "metadata": {},
     "output_type": "execute_result"
    }
   ],
   "source": [
    "np.max(all_time,axis=1)"
   ]
  },
  {
   "cell_type": "code",
   "execution_count": 98,
   "metadata": {},
   "outputs": [
    {
     "data": {
      "text/plain": [
       "array(['#1033', '#1901', '#1021', '#2447', '#2383', '#1193', '#1297',\n",
       "       '#3499', '#1231', '#2729', '#2129', '#419', '#1993', '#2539',\n",
       "       '#2963', '#3119', '#2707', '#1171', '#1553', '#3371'], dtype=object)"
      ]
     },
     "execution_count": 98,
     "metadata": {},
     "output_type": "execute_result"
    }
   ],
   "source": [
    "guards"
   ]
  },
  {
   "cell_type": "code",
   "execution_count": 99,
   "metadata": {},
   "outputs": [
    {
     "data": {
      "text/plain": [
       "96951"
      ]
     },
     "execution_count": 99,
     "metadata": {},
     "output_type": "execute_result"
    }
   ],
   "source": [
    "1901*51"
   ]
  },
  {
   "cell_type": "code",
   "execution_count": null,
   "metadata": {},
   "outputs": [],
   "source": []
  }
 ],
 "metadata": {
  "kernelspec": {
   "display_name": "Python 3",
   "language": "python",
   "name": "python3"
  },
  "language_info": {
   "codemirror_mode": {
    "name": "ipython",
    "version": 3
   },
   "file_extension": ".py",
   "mimetype": "text/x-python",
   "name": "python",
   "nbconvert_exporter": "python",
   "pygments_lexer": "ipython3",
   "version": "3.7.4"
  }
 },
 "nbformat": 4,
 "nbformat_minor": 2
}
